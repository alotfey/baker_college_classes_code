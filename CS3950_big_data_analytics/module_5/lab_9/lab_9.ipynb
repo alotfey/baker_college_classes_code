{
 "cells": [
  {
   "cell_type": "code",
   "execution_count": 2,
   "id": "baa68a79-d238-45d7-a558-6105d3280318",
   "metadata": {},
   "outputs": [
    {
     "name": "stdout",
     "output_type": "stream",
     "text": [
      "Retrieving notices: done\n",
      "Channels:\n",
      " - conda-forge\n",
      " - defaults\n",
      "Platform: osx-arm64\n",
      "Collecting package metadata (repodata.json): done\n",
      "Solving environment: done\n",
      "\n",
      "## Package Plan ##\n",
      "\n",
      "  environment location: /Users/lotfey/Desktop/Baker/CS3950-C1/anaconda3\n",
      "\n",
      "  added / updated specs:\n",
      "    - kagglehub\n",
      "\n",
      "\n",
      "The following packages will be downloaded:\n",
      "\n",
      "    package                    |            build\n",
      "    ---------------------------|-----------------\n",
      "    kagglehub-0.3.8            |     pyhd8ed1ab_0          44 KB  conda-forge\n",
      "    openssl-3.5.0              |       h81ee809_0         2.9 MB  conda-forge\n",
      "    ------------------------------------------------------------\n",
      "                                           Total:         3.0 MB\n",
      "\n",
      "The following NEW packages will be INSTALLED:\n",
      "\n",
      "  kagglehub          conda-forge/noarch::kagglehub-0.3.8-pyhd8ed1ab_0 \n",
      "\n",
      "The following packages will be UPDATED:\n",
      "\n",
      "  openssl                                  3.4.1-h81ee809_0 --> 3.5.0-h81ee809_0 \n",
      "\n",
      "\n",
      "\n",
      "Downloading and Extracting Packages:\n",
      "openssl-3.5.0        | 2.9 MB    |                                       |   0% \n",
      "openssl-3.5.0        | 2.9 MB    | 1                                     |   1% \u001b[A\n",
      "kagglehub-0.3.8      | 44 KB     | #############5                        |  37% \u001b[A\n",
      "kagglehub-0.3.8      | 44 KB     | ##################################### | 100% \u001b[A\n",
      "                                                                                \u001b[A\n",
      "                                                                                \u001b[A\n",
      "Preparing transaction: done\n",
      "Verifying transaction: done\n",
      "Executing transaction: done\n",
      "\n",
      "Note: you may need to restart the kernel to use updated packages.\n"
     ]
    }
   ],
   "source": [
    "conda install kagglehub"
   ]
  },
  {
   "cell_type": "code",
   "execution_count": 69,
   "id": "ae2b0012-5000-41b6-bf6e-a857568333d2",
   "metadata": {},
   "outputs": [],
   "source": [
    "import kagglehub"
   ]
  },
  {
   "cell_type": "code",
   "execution_count": 71,
   "id": "01e9fbe2-eed2-46b9-bbe1-3c0b9c520e08",
   "metadata": {},
   "outputs": [
    {
     "name": "stdout",
     "output_type": "stream",
     "text": [
      "Warning: Looks like you're using an outdated `kagglehub` version (installed: 0.3.8), please consider upgrading to the latest version (0.3.11).\n"
     ]
    }
   ],
   "source": [
    "path = kagglehub.dataset_download(\"atharvasoundankar/spotify-global-streaming-data-2024\")"
   ]
  },
  {
   "cell_type": "code",
   "execution_count": 73,
   "id": "e89b115f-4046-4982-937c-13317e74fdc2",
   "metadata": {},
   "outputs": [
    {
     "name": "stdout",
     "output_type": "stream",
     "text": [
      "Path to dataset files: /Users/lotfey/.cache/kagglehub/datasets/atharvasoundankar/spotify-global-streaming-data-2024/versions/1\n"
     ]
    }
   ],
   "source": [
    "print(\"Path to dataset files:\", path)"
   ]
  },
  {
   "cell_type": "code",
   "execution_count": 75,
   "id": "ed72646c-5c95-479b-90c1-9cea38b095ab",
   "metadata": {},
   "outputs": [],
   "source": [
    "import pandas as pd"
   ]
  },
  {
   "cell_type": "code",
   "execution_count": 77,
   "id": "905dc318-3564-4f8b-8332-79766bc39e57",
   "metadata": {},
   "outputs": [],
   "source": [
    "import numpy as np"
   ]
  },
  {
   "cell_type": "code",
   "execution_count": 79,
   "id": "d616529a-07d9-4754-9a8d-ee2391227a24",
   "metadata": {},
   "outputs": [],
   "source": [
    "import os"
   ]
  },
  {
   "cell_type": "code",
   "execution_count": 81,
   "id": "d417957d-cd91-40b3-bf88-0f03a66e32f9",
   "metadata": {},
   "outputs": [],
   "source": [
    "csv_file = os.path.join(path, \"Spotify_2024_Global_Streaming_Data.csv\")"
   ]
  },
  {
   "cell_type": "code",
   "execution_count": 83,
   "id": "e32670a4-f00d-407d-bc34-2ac01bb4c62a",
   "metadata": {},
   "outputs": [],
   "source": [
    "df_spotify = pd.read_csv(csv_file)"
   ]
  },
  {
   "cell_type": "code",
   "execution_count": 85,
   "id": "dd412090-5512-49d9-ae9e-66cf8bf58661",
   "metadata": {},
   "outputs": [
    {
     "data": {
      "text/html": [
       "<div>\n",
       "<style scoped>\n",
       "    .dataframe tbody tr th:only-of-type {\n",
       "        vertical-align: middle;\n",
       "    }\n",
       "\n",
       "    .dataframe tbody tr th {\n",
       "        vertical-align: top;\n",
       "    }\n",
       "\n",
       "    .dataframe thead th {\n",
       "        text-align: right;\n",
       "    }\n",
       "</style>\n",
       "<table border=\"1\" class=\"dataframe\">\n",
       "  <thead>\n",
       "    <tr style=\"text-align: right;\">\n",
       "      <th></th>\n",
       "      <th>Country</th>\n",
       "      <th>Artist</th>\n",
       "      <th>Album</th>\n",
       "      <th>Genre</th>\n",
       "      <th>Release Year</th>\n",
       "      <th>Monthly Listeners (Millions)</th>\n",
       "      <th>Total Streams (Millions)</th>\n",
       "      <th>Total Hours Streamed (Millions)</th>\n",
       "      <th>Avg Stream Duration (Min)</th>\n",
       "      <th>Platform Type</th>\n",
       "      <th>Streams Last 30 Days (Millions)</th>\n",
       "      <th>Skip Rate (%)</th>\n",
       "    </tr>\n",
       "  </thead>\n",
       "  <tbody>\n",
       "    <tr>\n",
       "      <th>0</th>\n",
       "      <td>Germany</td>\n",
       "      <td>Taylor Swift</td>\n",
       "      <td>1989 (Taylor's Version)</td>\n",
       "      <td>K-pop</td>\n",
       "      <td>2019</td>\n",
       "      <td>23.10</td>\n",
       "      <td>3695.53</td>\n",
       "      <td>14240.35</td>\n",
       "      <td>4.28</td>\n",
       "      <td>Free</td>\n",
       "      <td>118.51</td>\n",
       "      <td>2.24</td>\n",
       "    </tr>\n",
       "    <tr>\n",
       "      <th>1</th>\n",
       "      <td>Brazil</td>\n",
       "      <td>The Weeknd</td>\n",
       "      <td>After Hours</td>\n",
       "      <td>R&amp;B</td>\n",
       "      <td>2022</td>\n",
       "      <td>60.60</td>\n",
       "      <td>2828.16</td>\n",
       "      <td>11120.44</td>\n",
       "      <td>3.90</td>\n",
       "      <td>Premium</td>\n",
       "      <td>44.87</td>\n",
       "      <td>23.98</td>\n",
       "    </tr>\n",
       "    <tr>\n",
       "      <th>2</th>\n",
       "      <td>United States</td>\n",
       "      <td>Post Malone</td>\n",
       "      <td>Austin</td>\n",
       "      <td>Reggaeton</td>\n",
       "      <td>2023</td>\n",
       "      <td>42.84</td>\n",
       "      <td>1425.46</td>\n",
       "      <td>4177.49</td>\n",
       "      <td>4.03</td>\n",
       "      <td>Free</td>\n",
       "      <td>19.46</td>\n",
       "      <td>4.77</td>\n",
       "    </tr>\n",
       "    <tr>\n",
       "      <th>3</th>\n",
       "      <td>Italy</td>\n",
       "      <td>Ed Sheeran</td>\n",
       "      <td>Autumn Variations</td>\n",
       "      <td>K-pop</td>\n",
       "      <td>2018</td>\n",
       "      <td>73.24</td>\n",
       "      <td>2704.33</td>\n",
       "      <td>12024.08</td>\n",
       "      <td>3.26</td>\n",
       "      <td>Premium</td>\n",
       "      <td>166.05</td>\n",
       "      <td>25.12</td>\n",
       "    </tr>\n",
       "    <tr>\n",
       "      <th>4</th>\n",
       "      <td>Italy</td>\n",
       "      <td>Ed Sheeran</td>\n",
       "      <td>Autumn Variations</td>\n",
       "      <td>R&amp;B</td>\n",
       "      <td>2023</td>\n",
       "      <td>7.89</td>\n",
       "      <td>3323.25</td>\n",
       "      <td>13446.32</td>\n",
       "      <td>4.47</td>\n",
       "      <td>Free</td>\n",
       "      <td>173.43</td>\n",
       "      <td>15.82</td>\n",
       "    </tr>\n",
       "    <tr>\n",
       "      <th>5</th>\n",
       "      <td>Sweden</td>\n",
       "      <td>Billie Eilish</td>\n",
       "      <td>Happier Than Ever</td>\n",
       "      <td>Indie</td>\n",
       "      <td>2019</td>\n",
       "      <td>37.65</td>\n",
       "      <td>1087.06</td>\n",
       "      <td>3298.09</td>\n",
       "      <td>4.37</td>\n",
       "      <td>Free</td>\n",
       "      <td>122.22</td>\n",
       "      <td>7.67</td>\n",
       "    </tr>\n",
       "    <tr>\n",
       "      <th>6</th>\n",
       "      <td>France</td>\n",
       "      <td>Bad Bunny</td>\n",
       "      <td>Nadie Sabe Lo Que Va a Pasar Mañana</td>\n",
       "      <td>Rock</td>\n",
       "      <td>2021</td>\n",
       "      <td>27.72</td>\n",
       "      <td>4630.69</td>\n",
       "      <td>17950.05</td>\n",
       "      <td>2.94</td>\n",
       "      <td>Premium</td>\n",
       "      <td>168.73</td>\n",
       "      <td>31.26</td>\n",
       "    </tr>\n",
       "    <tr>\n",
       "      <th>7</th>\n",
       "      <td>France</td>\n",
       "      <td>Doja Cat</td>\n",
       "      <td>Scarlet</td>\n",
       "      <td>Pop</td>\n",
       "      <td>2020</td>\n",
       "      <td>40.72</td>\n",
       "      <td>377.63</td>\n",
       "      <td>1633.73</td>\n",
       "      <td>3.63</td>\n",
       "      <td>Premium</td>\n",
       "      <td>43.31</td>\n",
       "      <td>20.47</td>\n",
       "    </tr>\n",
       "    <tr>\n",
       "      <th>8</th>\n",
       "      <td>Sweden</td>\n",
       "      <td>Bad Bunny</td>\n",
       "      <td>Nadie Sabe Lo Que Va a Pasar Mañana</td>\n",
       "      <td>K-pop</td>\n",
       "      <td>2019</td>\n",
       "      <td>25.42</td>\n",
       "      <td>2828.77</td>\n",
       "      <td>8558.40</td>\n",
       "      <td>3.67</td>\n",
       "      <td>Premium</td>\n",
       "      <td>73.04</td>\n",
       "      <td>39.90</td>\n",
       "    </tr>\n",
       "    <tr>\n",
       "      <th>9</th>\n",
       "      <td>United Kingdom</td>\n",
       "      <td>Ariana Grande</td>\n",
       "      <td>Eternal Sunshine</td>\n",
       "      <td>Rock</td>\n",
       "      <td>2018</td>\n",
       "      <td>75.82</td>\n",
       "      <td>4312.46</td>\n",
       "      <td>12099.39</td>\n",
       "      <td>2.82</td>\n",
       "      <td>Premium</td>\n",
       "      <td>119.69</td>\n",
       "      <td>16.01</td>\n",
       "    </tr>\n",
       "  </tbody>\n",
       "</table>\n",
       "</div>"
      ],
      "text/plain": [
       "          Country         Artist                                Album  \\\n",
       "0         Germany   Taylor Swift              1989 (Taylor's Version)   \n",
       "1          Brazil     The Weeknd                          After Hours   \n",
       "2   United States    Post Malone                               Austin   \n",
       "3           Italy     Ed Sheeran                    Autumn Variations   \n",
       "4           Italy     Ed Sheeran                    Autumn Variations   \n",
       "5          Sweden  Billie Eilish                    Happier Than Ever   \n",
       "6          France      Bad Bunny  Nadie Sabe Lo Que Va a Pasar Mañana   \n",
       "7          France       Doja Cat                              Scarlet   \n",
       "8          Sweden      Bad Bunny  Nadie Sabe Lo Que Va a Pasar Mañana   \n",
       "9  United Kingdom  Ariana Grande                     Eternal Sunshine   \n",
       "\n",
       "       Genre  Release Year  Monthly Listeners (Millions)  \\\n",
       "0      K-pop          2019                         23.10   \n",
       "1        R&B          2022                         60.60   \n",
       "2  Reggaeton          2023                         42.84   \n",
       "3      K-pop          2018                         73.24   \n",
       "4        R&B          2023                          7.89   \n",
       "5      Indie          2019                         37.65   \n",
       "6       Rock          2021                         27.72   \n",
       "7        Pop          2020                         40.72   \n",
       "8      K-pop          2019                         25.42   \n",
       "9       Rock          2018                         75.82   \n",
       "\n",
       "   Total Streams (Millions)  Total Hours Streamed (Millions)  \\\n",
       "0                   3695.53                         14240.35   \n",
       "1                   2828.16                         11120.44   \n",
       "2                   1425.46                          4177.49   \n",
       "3                   2704.33                         12024.08   \n",
       "4                   3323.25                         13446.32   \n",
       "5                   1087.06                          3298.09   \n",
       "6                   4630.69                         17950.05   \n",
       "7                    377.63                          1633.73   \n",
       "8                   2828.77                          8558.40   \n",
       "9                   4312.46                         12099.39   \n",
       "\n",
       "   Avg Stream Duration (Min) Platform Type  Streams Last 30 Days (Millions)  \\\n",
       "0                       4.28          Free                           118.51   \n",
       "1                       3.90       Premium                            44.87   \n",
       "2                       4.03          Free                            19.46   \n",
       "3                       3.26       Premium                           166.05   \n",
       "4                       4.47          Free                           173.43   \n",
       "5                       4.37          Free                           122.22   \n",
       "6                       2.94       Premium                           168.73   \n",
       "7                       3.63       Premium                            43.31   \n",
       "8                       3.67       Premium                            73.04   \n",
       "9                       2.82       Premium                           119.69   \n",
       "\n",
       "   Skip Rate (%)  \n",
       "0           2.24  \n",
       "1          23.98  \n",
       "2           4.77  \n",
       "3          25.12  \n",
       "4          15.82  \n",
       "5           7.67  \n",
       "6          31.26  \n",
       "7          20.47  \n",
       "8          39.90  \n",
       "9          16.01  "
      ]
     },
     "execution_count": 85,
     "metadata": {},
     "output_type": "execute_result"
    }
   ],
   "source": [
    "df_spotify.head(10)"
   ]
  },
  {
   "cell_type": "code",
   "execution_count": 107,
   "id": "a7a1bd91-6226-417d-a0a0-9bd3f59ac9ce",
   "metadata": {},
   "outputs": [
    {
     "data": {
      "text/plain": [
       "count         500\n",
       "mean         2581\n",
       "median       2697\n",
       "min            53\n",
       "max          4985\n",
       "std          1416\n",
       "var       2005214\n",
       "sum       1290577\n",
       "Name: Total Streams (Millions), dtype: int64"
      ]
     },
     "execution_count": 107,
     "metadata": {},
     "output_type": "execute_result"
    }
   ],
   "source": [
    "df_spotify['Total Streams (Millions)'].agg(['count',  'mean', 'median',\n",
    "    'min', 'max', 'std', 'var', 'sum']).astype('int')"
   ]
  },
  {
   "cell_type": "code",
   "execution_count": 109,
   "id": "40e48c28-f8e9-446a-bc1c-4afe452e2e5b",
   "metadata": {},
   "outputs": [
    {
     "name": "stdout",
     "output_type": "stream",
     "text": [
      "Since first() and last() need  time-series data, I will use another way to get the first and last\n"
     ]
    }
   ],
   "source": [
    "!echo \"Since first() and last() need  time-series data, I will use another way to get the first and last\""
   ]
  },
  {
   "cell_type": "code",
   "execution_count": 111,
   "id": "d62b12cb-ac03-4915-80e7-90ab1d468a65",
   "metadata": {},
   "outputs": [
    {
     "data": {
      "text/plain": [
       "Country                                            Germany\n",
       "Artist                                        Taylor Swift\n",
       "Album                              1989 (Taylor's Version)\n",
       "Genre                                                K-pop\n",
       "Release Year                                          2019\n",
       "Monthly Listeners (Millions)                          23.1\n",
       "Total Streams (Millions)                           3695.53\n",
       "Total Hours Streamed (Millions)                   14240.35\n",
       "Avg Stream Duration (Min)                             4.28\n",
       "Platform Type                                         Free\n",
       "Streams Last 30 Days (Millions)                     118.51\n",
       "Skip Rate (%)                                         2.24\n",
       "Name: 0, dtype: object"
      ]
     },
     "execution_count": 111,
     "metadata": {},
     "output_type": "execute_result"
    }
   ],
   "source": [
    "df_spotify.iloc[0]"
   ]
  },
  {
   "cell_type": "code",
   "execution_count": 115,
   "id": "c1cdcb22-9932-41b9-bdb0-a6980061a9e6",
   "metadata": {},
   "outputs": [
    {
     "data": {
      "text/plain": [
       "Country                               Sweden\n",
       "Artist                                   BTS\n",
       "Album                                  Proof\n",
       "Genre                              Reggaeton\n",
       "Release Year                            2018\n",
       "Monthly Listeners (Millions)           89.96\n",
       "Total Streams (Millions)             4804.15\n",
       "Total Hours Streamed (Millions)     12044.32\n",
       "Avg Stream Duration (Min)               4.03\n",
       "Platform Type                           Free\n",
       "Streams Last 30 Days (Millions)        92.27\n",
       "Skip Rate (%)                          34.36\n",
       "Name: 499, dtype: object"
      ]
     },
     "execution_count": 115,
     "metadata": {},
     "output_type": "execute_result"
    }
   ],
   "source": [
    "df_spotify.iloc[-1]"
   ]
  },
  {
   "cell_type": "code",
   "execution_count": 125,
   "id": "9a6a5749-5096-4421-b474-62e49e4eb8b8",
   "metadata": {},
   "outputs": [
    {
     "data": {
      "text/plain": [
       "Artist\n",
       "BTS               437253\n",
       "Dua Lipa          389040\n",
       "Bad Bunny         388487\n",
       "BLACKPINK         358826\n",
       "Doja Cat          313326\n",
       "Karol G           305313\n",
       "Ed Sheeran        303690\n",
       "Olivia Rodrigo    298871\n",
       "Drake             285927\n",
       "Billie Eilish     274053\n",
       "Ariana Grande     269727\n",
       "Post Malone       247859\n",
       "Taylor Swift      219592\n",
       "The Weeknd        205410\n",
       "SZA               179803\n",
       "Name: Total Hours Streamed (Millions), dtype: int64"
      ]
     },
     "execution_count": 125,
     "metadata": {},
     "output_type": "execute_result"
    }
   ],
   "source": [
    "df_spotify.groupby('Artist')['Total Hours Streamed (Millions)'].sum().astype('int').sort_values(ascending=False)"
   ]
  },
  {
   "cell_type": "code",
   "execution_count": 127,
   "id": "00c11820-4e50-4703-a542-3fb92d930ef8",
   "metadata": {},
   "outputs": [
    {
     "data": {
      "text/plain": [
       "Genre\n",
       "Classical    675147\n",
       "Rock         514864\n",
       "K-pop        463827\n",
       "Indie        454210\n",
       "EDM          453184\n",
       "Pop          423169\n",
       "R&B          399807\n",
       "Hip Hop      382786\n",
       "Reggaeton    367315\n",
       "Jazz         342870\n",
       "Name: Total Hours Streamed (Millions), dtype: int64"
      ]
     },
     "execution_count": 127,
     "metadata": {},
     "output_type": "execute_result"
    }
   ],
   "source": [
    "df_spotify.groupby('Genre')['Total Hours Streamed (Millions)'].sum().astype('int').sort_values(ascending=False)"
   ]
  },
  {
   "cell_type": "code",
   "execution_count": 129,
   "id": "b44646a0-3bdd-4784-a5d4-c8ee429307c0",
   "metadata": {},
   "outputs": [
    {
     "data": {
      "text/plain": [
       "Genre      Platform Type\n",
       "Classical  Premium          376240\n",
       "           Free             298907\n",
       "Rock       Premium          293803\n",
       "Indie      Premium          274804\n",
       "Pop        Free             257742\n",
       "R&B        Free             241858\n",
       "EDM        Free             237414\n",
       "K-pop      Free             232562\n",
       "           Premium          231264\n",
       "Rock       Free             221060\n",
       "EDM        Premium          215770\n",
       "Hip Hop    Free             212409\n",
       "Reggaeton  Premium          206431\n",
       "Indie      Free             179406\n",
       "Jazz       Premium          171838\n",
       "           Free             171031\n",
       "Hip Hop    Premium          170377\n",
       "Pop        Premium          165427\n",
       "Reggaeton  Free             160884\n",
       "R&B        Premium          157948\n",
       "Name: Total Hours Streamed (Millions), dtype: int64"
      ]
     },
     "execution_count": 129,
     "metadata": {},
     "output_type": "execute_result"
    }
   ],
   "source": [
    "df_spotify.groupby(['Genre','Platform Type'])['Total Hours Streamed (Millions)'].sum().astype('int').sort_values(ascending=False)"
   ]
  },
  {
   "cell_type": "code",
   "execution_count": 131,
   "id": "ee330fbd-20c7-46a3-b59e-981c1ac6bb82",
   "metadata": {},
   "outputs": [
    {
     "data": {
      "text/plain": [
       "Platform Type\n",
       "Premium    2263907\n",
       "Free       2213276\n",
       "Name: Total Hours Streamed (Millions), dtype: int64"
      ]
     },
     "execution_count": 131,
     "metadata": {},
     "output_type": "execute_result"
    }
   ],
   "source": [
    "df_spotify.groupby('Platform Type')['Total Hours Streamed (Millions)'].sum().astype('int').sort_values(ascending=False)"
   ]
  },
  {
   "cell_type": "code",
   "execution_count": 133,
   "id": "f4b41822-0311-41d5-8ad1-0d32d2fdcf62",
   "metadata": {},
   "outputs": [
    {
     "name": "stdout",
     "output_type": "stream",
     "text": [
      "Provide a summary of what you learned after analyzing the dataset.\n"
     ]
    }
   ],
   "source": [
    "!echo \"Provide a summary of what you learned after analyzing the dataset.\""
   ]
  },
  {
   "cell_type": "code",
   "execution_count": 135,
   "id": "92a48edd-faeb-48f3-9309-16c88fad9920",
   "metadata": {},
   "outputs": [
    {
     "name": "stdout",
     "output_type": "stream",
     "text": [
      "BTS leads all artists with 437 million hours streamed, indicating sustained global popularity and an extremely engaged fan base. Their lead over the next artist, Dua Lipa, underscores the strength of K-pop as a global music force.\n"
     ]
    }
   ],
   "source": [
    "!echo \"BTS leads all artists with 437 million hours streamed, indicating sustained global popularity and an extremely engaged fan base. Their lead over the next artist, Dua Lipa, underscores the strength of K-pop as a global music force.\""
   ]
  },
  {
   "cell_type": "code",
   "execution_count": 137,
   "id": "404f1533-9af1-4a08-b174-b476569dab7e",
   "metadata": {},
   "outputs": [
    {
     "name": "stdout",
     "output_type": "stream",
     "text": [
      "Classical music led in total global streaming hours, followed by Rock, K-pop, and Indie genres. This suggests a shift or broadening of listening habits, with traditionally niche genres like Classical and Indie now achieving significant streaming volumes. The results indicate that audience preferences are diverse and not strictly dominated by mainstream Pop or Hip Hop.\n"
     ]
    }
   ],
   "source": [
    "!echo \"Classical music led in total global streaming hours, followed by Rock, K-pop, and Indie genres. This suggests a shift or broadening of listening habits, with traditionally niche genres like Classical and Indie now achieving significant streaming volumes. The results indicate that audience preferences are diverse and not strictly dominated by mainstream Pop or Hip Hop.\""
   ]
  },
  {
   "cell_type": "code",
   "execution_count": 139,
   "id": "7b365cb0-1887-4578-ace7-13101e4dcd5a",
   "metadata": {},
   "outputs": [
    {
     "name": "stdout",
     "output_type": "stream",
     "text": [
      "Overall, the total streaming hours were fairly balanced between Premium (2.26 billion) and Free (2.21 billion) users. This balance highlights that while paid subscriptions contribute slightly more to total streaming, free access continues to drive significant engagement globally.\n"
     ]
    }
   ],
   "source": [
    "!echo \"Overall, the total streaming hours were fairly balanced between Premium (2.26 billion) and Free (2.21 billion) users. This balance highlights that while paid subscriptions contribute slightly more to total streaming, free access continues to drive significant engagement globally.\""
   ]
  },
  {
   "cell_type": "code",
   "execution_count": null,
   "id": "4ee1ea23-47f8-42cf-972b-cfe644f58ac6",
   "metadata": {},
   "outputs": [],
   "source": []
  }
 ],
 "metadata": {
  "kernelspec": {
   "display_name": "Python [conda env:base] *",
   "language": "python",
   "name": "conda-base-py"
  },
  "language_info": {
   "codemirror_mode": {
    "name": "ipython",
    "version": 3
   },
   "file_extension": ".py",
   "mimetype": "text/x-python",
   "name": "python",
   "nbconvert_exporter": "python",
   "pygments_lexer": "ipython3",
   "version": "3.12.2"
  }
 },
 "nbformat": 4,
 "nbformat_minor": 5
}
