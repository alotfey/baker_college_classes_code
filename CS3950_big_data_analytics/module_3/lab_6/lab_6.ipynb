{
 "cells": [
  {
   "cell_type": "code",
   "execution_count": 2,
   "id": "32f27c9b-6972-457d-90b4-65e18b4288b6",
   "metadata": {},
   "outputs": [],
   "source": [
    "import pandas as pd"
   ]
  },
  {
   "cell_type": "code",
   "execution_count": 6,
   "id": "0b2ffa93-4e68-4ea2-8562-727d11cef365",
   "metadata": {},
   "outputs": [],
   "source": [
    "df = pd.read_excel('~/Desktop/Baker/github/CS3950_big_data_analytics/module_3/lab_6/Lab 6 - Chipotle.xls', engine='xlrd')"
   ]
  },
  {
   "cell_type": "code",
   "execution_count": 8,
   "id": "46d744f5-684d-4701-819a-60cabb83ec16",
   "metadata": {},
   "outputs": [
    {
     "data": {
      "text/html": [
       "<div>\n",
       "<style scoped>\n",
       "    .dataframe tbody tr th:only-of-type {\n",
       "        vertical-align: middle;\n",
       "    }\n",
       "\n",
       "    .dataframe tbody tr th {\n",
       "        vertical-align: top;\n",
       "    }\n",
       "\n",
       "    .dataframe thead th {\n",
       "        text-align: right;\n",
       "    }\n",
       "</style>\n",
       "<table border=\"1\" class=\"dataframe\">\n",
       "  <thead>\n",
       "    <tr style=\"text-align: right;\">\n",
       "      <th></th>\n",
       "      <th>Unnamed: 0</th>\n",
       "      <th>order_id</th>\n",
       "      <th>quantity</th>\n",
       "      <th>item_name</th>\n",
       "      <th>choice_description</th>\n",
       "      <th>item_price</th>\n",
       "    </tr>\n",
       "  </thead>\n",
       "  <tbody>\n",
       "    <tr>\n",
       "      <th>0</th>\n",
       "      <td>0</td>\n",
       "      <td>1</td>\n",
       "      <td>1</td>\n",
       "      <td>Chips and Fresh Tomato Salsa</td>\n",
       "      <td>NaN</td>\n",
       "      <td>2.39</td>\n",
       "    </tr>\n",
       "    <tr>\n",
       "      <th>1</th>\n",
       "      <td>1</td>\n",
       "      <td>1</td>\n",
       "      <td>1</td>\n",
       "      <td>Izze</td>\n",
       "      <td>[Clementine]</td>\n",
       "      <td>3.39</td>\n",
       "    </tr>\n",
       "    <tr>\n",
       "      <th>2</th>\n",
       "      <td>2</td>\n",
       "      <td>1</td>\n",
       "      <td>1</td>\n",
       "      <td>Nantucket Nectar</td>\n",
       "      <td>[Apple]</td>\n",
       "      <td>3.39</td>\n",
       "    </tr>\n",
       "    <tr>\n",
       "      <th>3</th>\n",
       "      <td>3</td>\n",
       "      <td>1</td>\n",
       "      <td>1</td>\n",
       "      <td>Chips and Tomatillo-Green Chili Salsa</td>\n",
       "      <td>NaN</td>\n",
       "      <td>2.39</td>\n",
       "    </tr>\n",
       "    <tr>\n",
       "      <th>4</th>\n",
       "      <td>4</td>\n",
       "      <td>2</td>\n",
       "      <td>2</td>\n",
       "      <td>Chicken Bowl</td>\n",
       "      <td>[Tomatillo-Red Chili Salsa (Hot), [Black Beans...</td>\n",
       "      <td>16.98</td>\n",
       "    </tr>\n",
       "  </tbody>\n",
       "</table>\n",
       "</div>"
      ],
      "text/plain": [
       "   Unnamed: 0  order_id  quantity                              item_name  \\\n",
       "0           0         1         1           Chips and Fresh Tomato Salsa   \n",
       "1           1         1         1                                   Izze   \n",
       "2           2         1         1                       Nantucket Nectar   \n",
       "3           3         1         1  Chips and Tomatillo-Green Chili Salsa   \n",
       "4           4         2         2                           Chicken Bowl   \n",
       "\n",
       "                                  choice_description  item_price  \n",
       "0                                                NaN        2.39  \n",
       "1                                       [Clementine]        3.39  \n",
       "2                                            [Apple]        3.39  \n",
       "3                                                NaN        2.39  \n",
       "4  [Tomatillo-Red Chili Salsa (Hot), [Black Beans...       16.98  "
      ]
     },
     "execution_count": 8,
     "metadata": {},
     "output_type": "execute_result"
    }
   ],
   "source": [
    "df.head()"
   ]
  },
  {
   "cell_type": "code",
   "execution_count": 12,
   "id": "135950a7-4361-47e0-b449-d795059cf8c9",
   "metadata": {},
   "outputs": [],
   "source": [
    "df['item_price'] = df['item_price'].replace(r'[\\$,]', '', regex=True).astype(float)"
   ]
  },
  {
   "cell_type": "code",
   "execution_count": 14,
   "id": "f9dba312-8b84-45da-8156-488c3a9b8e87",
   "metadata": {},
   "outputs": [],
   "source": [
    "chicken_items = df[df['item_name'].str.contains('chicken', case=False, na=False)]"
   ]
  },
  {
   "cell_type": "code",
   "execution_count": 16,
   "id": "bd6214b7-4c6c-4270-9343-e22306aa0a93",
   "metadata": {},
   "outputs": [],
   "source": [
    "avg_chicken_price = chicken_items['item_price'].mean()"
   ]
  },
  {
   "cell_type": "code",
   "execution_count": 18,
   "id": "0e368d17-3b26-481c-abfb-cae039797ec9",
   "metadata": {},
   "outputs": [
    {
     "name": "stdout",
     "output_type": "stream",
     "text": [
      "Average price of an item with chicken: $10.13\n"
     ]
    }
   ],
   "source": [
    "print(f\"Average price of an item with chicken: ${avg_chicken_price:.2f}\")"
   ]
  },
  {
   "cell_type": "code",
   "execution_count": 20,
   "id": "f2333e6a-bd19-4b6d-9de8-33b5ef07143f",
   "metadata": {},
   "outputs": [],
   "source": [
    "steak_items = df[df['item_name'].str.contains('steak', case=False, na=False)]"
   ]
  },
  {
   "cell_type": "code",
   "execution_count": 22,
   "id": "e94cc57c-f258-42cc-8502-833f4fb15a45",
   "metadata": {},
   "outputs": [],
   "source": [
    "avg_steak_price = steak_items['item_price'].mean()"
   ]
  },
  {
   "cell_type": "code",
   "execution_count": 24,
   "id": "0e0c772a-71e0-4178-952f-fd7308b90336",
   "metadata": {},
   "outputs": [
    {
     "name": "stdout",
     "output_type": "stream",
     "text": [
      "Average price of an item with steak: $10.52\n"
     ]
    }
   ],
   "source": [
    "print(f\"Average price of an item with steak: ${avg_steak_price:.2f}\")"
   ]
  },
  {
   "cell_type": "code",
   "execution_count": 26,
   "id": "4fcc1008-2351-44aa-bfb8-77bea748ad69",
   "metadata": {},
   "outputs": [],
   "source": [
    "chicken_revenue = chicken_items['item_price'].sum()"
   ]
  },
  {
   "cell_type": "code",
   "execution_count": 28,
   "id": "d04403b4-5fae-4e89-9cbb-f5b8369956f2",
   "metadata": {},
   "outputs": [],
   "source": [
    "steak_revenue = steak_items['item_price'].sum()"
   ]
  },
  {
   "cell_type": "code",
   "execution_count": 30,
   "id": "e543ea94-ce03-4a9e-ab7e-14472bb6c55d",
   "metadata": {},
   "outputs": [
    {
     "name": "stdout",
     "output_type": "stream",
     "text": [
      "Total revenue from chicken: $15808.61\n"
     ]
    }
   ],
   "source": [
    "print(f\"Total revenue from chicken: ${chicken_revenue:.2f}\")"
   ]
  },
  {
   "cell_type": "code",
   "execution_count": 32,
   "id": "4f19c80a-0fba-4f42-ab6c-03cd7de963c6",
   "metadata": {},
   "outputs": [
    {
     "name": "stdout",
     "output_type": "stream",
     "text": [
      "Total revenue from steak: $7384.26\n"
     ]
    }
   ],
   "source": [
    "print(f\"Total revenue from steak: ${steak_revenue:.2f}\")"
   ]
  },
  {
   "cell_type": "code",
   "execution_count": 34,
   "id": "e4068894-8e04-4ecc-a361-ce67f046e1be",
   "metadata": {},
   "outputs": [
    {
     "name": "stdout",
     "output_type": "stream",
     "text": [
      "Chicken produced more revenue.\n"
     ]
    }
   ],
   "source": [
    "if chicken_revenue > steak_revenue:\n",
    "    print(\"Chicken produced more revenue.\")\n",
    "elif steak_revenue > chicken_revenue:\n",
    "    print(\"Steak produced more revenue.\")\n",
    "else:\n",
    "    print(\"Chicken and steak produced the same revenue.\")"
   ]
  },
  {
   "cell_type": "code",
   "execution_count": 50,
   "id": "7152d7d0-c5ca-4c51-bd74-85d1bbc9f362",
   "metadata": {},
   "outputs": [],
   "source": [
    "total_missing = df.isnull().sum().sum()"
   ]
  },
  {
   "cell_type": "code",
   "execution_count": 52,
   "id": "2f0e378a-dc05-4e69-8af4-3c83aa2174d1",
   "metadata": {},
   "outputs": [
    {
     "name": "stdout",
     "output_type": "stream",
     "text": [
      "1246\n"
     ]
    }
   ],
   "source": [
    "print(total_missing)"
   ]
  },
  {
   "cell_type": "code",
   "execution_count": 66,
   "id": "86ab7710-9b9d-42dc-a9b5-74b2bafaffe6",
   "metadata": {},
   "outputs": [],
   "source": [
    "missing_per_column = df.isnull().sum()"
   ]
  },
  {
   "cell_type": "code",
   "execution_count": 62,
   "id": "4f54fb42-8306-42e9-8824-8a2181f5a5fb",
   "metadata": {},
   "outputs": [
    {
     "name": "stdout",
     "output_type": "stream",
     "text": [
      "Total missing values in dataset: 1246\n",
      "\n"
     ]
    }
   ],
   "source": [
    "print(f\"Total missing values in dataset: {total_missing}\\n\")"
   ]
  },
  {
   "cell_type": "code",
   "execution_count": 72,
   "id": "7d4aa905-7eb3-46d9-8e16-78abe9873679",
   "metadata": {},
   "outputs": [
    {
     "name": "stdout",
     "output_type": "stream",
     "text": [
      "Missing values by column:\n",
      "Unnamed: 0               0\n",
      "order_id                 0\n",
      "quantity                 0\n",
      "item_name                0\n",
      "choice_description    1246\n",
      "item_price               0\n",
      "dtype: int64\n"
     ]
    }
   ],
   "source": [
    "print(f'Missing values by column:\\n{missing_per_column}')"
   ]
  },
  {
   "cell_type": "code",
   "execution_count": null,
   "id": "615ac438-81b5-427b-b551-05acd581923e",
   "metadata": {},
   "outputs": [],
   "source": []
  }
 ],
 "metadata": {
  "kernelspec": {
   "display_name": "Python [conda env:base] *",
   "language": "python",
   "name": "conda-base-py"
  },
  "language_info": {
   "codemirror_mode": {
    "name": "ipython",
    "version": 3
   },
   "file_extension": ".py",
   "mimetype": "text/x-python",
   "name": "python",
   "nbconvert_exporter": "python",
   "pygments_lexer": "ipython3",
   "version": "3.12.2"
  }
 },
 "nbformat": 4,
 "nbformat_minor": 5
}
